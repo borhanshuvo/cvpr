{
  "nbformat": 4,
  "nbformat_minor": 0,
  "metadata": {
    "colab": {
      "name": "Untitled2.ipynb",
      "provenance": [],
      "toc_visible": true
    },
    "kernelspec": {
      "name": "python3",
      "display_name": "Python 3"
    },
    "language_info": {
      "name": "python"
    }
  },
  "cells": [
    {
      "cell_type": "code",
      "execution_count": 18,
      "metadata": {
        "colab": {
          "base_uri": "https://localhost:8080/"
        },
        "id": "kDrQANnE3Ibd",
        "outputId": "09fa1287-7bec-46d3-e683-669461049040"
      },
      "outputs": [
        {
          "output_type": "stream",
          "name": "stdout",
          "text": [
            "Interation 1 ---> [60, 50, 30, 20, 10, 40, 80, 70, 90, 100]\n",
            "Interation 2 ---> [50, 60, 30, 20, 10, 40, 80, 70, 90, 100]\n",
            "Interation 3 ---> [30, 50, 60, 20, 10, 40, 80, 70, 90, 100]\n",
            "Interation 4 ---> [20, 30, 50, 60, 10, 40, 80, 70, 90, 100]\n",
            "Interation 5 ---> [10, 20, 30, 50, 60, 40, 80, 70, 90, 100]\n",
            "Interation 6 ---> [10, 20, 30, 40, 50, 60, 80, 70, 90, 100]\n",
            "Interation 7 ---> [10, 20, 30, 40, 50, 60, 80, 70, 90, 100]\n",
            "Interation 8 ---> [10, 20, 30, 40, 50, 60, 70, 80, 90, 100]\n",
            "Interation 9 ---> [10, 20, 30, 40, 50, 60, 70, 80, 90, 100]\n",
            "The sorted array is:\n",
            " 10  20  30  40  50  60  70  80  90  100 "
          ]
        }
      ],
      "source": [
        "arr = [60,50,30,20,10,40,80,70,90,100]\n",
        "\n",
        "# Insertion Sort\n",
        "def insertionSort(arr):\n",
        "    for i in range(1, len(arr)):\n",
        "        key = arr[i]\n",
        "        j = i-1\n",
        "        print(f'Interation {i} ---> {arr}')\n",
        "        while j >=0 and key < arr[j] :\n",
        "            arr[j+1] = arr[j]\n",
        "            j -= 1\n",
        "        arr[j+1] = key\n",
        "\n",
        "insertionSort(arr)\n",
        "\n",
        "print (\"The sorted array is:\")\n",
        "for i in range(len(arr)):\n",
        "\t print (\"% d\" % arr[i],end=\" \")\n",
        "\n"
      ]
    },
    {
      "cell_type": "code",
      "source": [
        "# Quick Sort\n",
        "def quicksort(x):\n",
        "    if len(x) == 1 or len(x) == 0:\n",
        "        return x\n",
        "    else:\n",
        "        pivot = x[0]\n",
        "        i = 0\n",
        "        for j in range(len(x)-1):\n",
        "            if x[j+1] < pivot:\n",
        "                x[j+1],x[i+1] = x[i+1], x[j+1]\n",
        "                i += 1\n",
        "            print(f'Step: {j}-->{x}')\n",
        "        print('---- Next Recursion Part ----')\n",
        "        x[0],x[i] = x[i],x[0]\n",
        "        first_part = quicksort(x[:i])\n",
        "        second_part = quicksort(x[i+1:])\n",
        "        first_part.append(x[i])\n",
        "        return first_part + second_part\n",
        "        \n",
        "print(quicksort(arr))"
      ],
      "metadata": {
        "colab": {
          "base_uri": "https://localhost:8080/"
        },
        "id": "g6kwd5Pe1TlW",
        "outputId": "830a08e4-3097-469c-e1a1-3b2a332505dc"
      },
      "execution_count": 17,
      "outputs": [
        {
          "output_type": "stream",
          "name": "stdout",
          "text": [
            "Step: 0-->[10, 20, 30, 40, 50, 60, 70, 80, 90, 100]\n",
            "Step: 1-->[10, 20, 30, 40, 50, 60, 70, 80, 90, 100]\n",
            "Step: 2-->[10, 20, 30, 40, 50, 60, 70, 80, 90, 100]\n",
            "Step: 3-->[10, 20, 30, 40, 50, 60, 70, 80, 90, 100]\n",
            "Step: 4-->[10, 20, 30, 40, 50, 60, 70, 80, 90, 100]\n",
            "Step: 5-->[10, 20, 30, 40, 50, 60, 70, 80, 90, 100]\n",
            "Step: 6-->[10, 20, 30, 40, 50, 60, 70, 80, 90, 100]\n",
            "Step: 7-->[10, 20, 30, 40, 50, 60, 70, 80, 90, 100]\n",
            "Step: 8-->[10, 20, 30, 40, 50, 60, 70, 80, 90, 100]\n",
            "---- Next Recursion Part ----\n",
            "Step: 0-->[20, 30, 40, 50, 60, 70, 80, 90, 100]\n",
            "Step: 1-->[20, 30, 40, 50, 60, 70, 80, 90, 100]\n",
            "Step: 2-->[20, 30, 40, 50, 60, 70, 80, 90, 100]\n",
            "Step: 3-->[20, 30, 40, 50, 60, 70, 80, 90, 100]\n",
            "Step: 4-->[20, 30, 40, 50, 60, 70, 80, 90, 100]\n",
            "Step: 5-->[20, 30, 40, 50, 60, 70, 80, 90, 100]\n",
            "Step: 6-->[20, 30, 40, 50, 60, 70, 80, 90, 100]\n",
            "Step: 7-->[20, 30, 40, 50, 60, 70, 80, 90, 100]\n",
            "---- Next Recursion Part ----\n",
            "Step: 0-->[30, 40, 50, 60, 70, 80, 90, 100]\n",
            "Step: 1-->[30, 40, 50, 60, 70, 80, 90, 100]\n",
            "Step: 2-->[30, 40, 50, 60, 70, 80, 90, 100]\n",
            "Step: 3-->[30, 40, 50, 60, 70, 80, 90, 100]\n",
            "Step: 4-->[30, 40, 50, 60, 70, 80, 90, 100]\n",
            "Step: 5-->[30, 40, 50, 60, 70, 80, 90, 100]\n",
            "Step: 6-->[30, 40, 50, 60, 70, 80, 90, 100]\n",
            "---- Next Recursion Part ----\n",
            "Step: 0-->[40, 50, 60, 70, 80, 90, 100]\n",
            "Step: 1-->[40, 50, 60, 70, 80, 90, 100]\n",
            "Step: 2-->[40, 50, 60, 70, 80, 90, 100]\n",
            "Step: 3-->[40, 50, 60, 70, 80, 90, 100]\n",
            "Step: 4-->[40, 50, 60, 70, 80, 90, 100]\n",
            "Step: 5-->[40, 50, 60, 70, 80, 90, 100]\n",
            "---- Next Recursion Part ----\n",
            "Step: 0-->[50, 60, 70, 80, 90, 100]\n",
            "Step: 1-->[50, 60, 70, 80, 90, 100]\n",
            "Step: 2-->[50, 60, 70, 80, 90, 100]\n",
            "Step: 3-->[50, 60, 70, 80, 90, 100]\n",
            "Step: 4-->[50, 60, 70, 80, 90, 100]\n",
            "---- Next Recursion Part ----\n",
            "Step: 0-->[60, 70, 80, 90, 100]\n",
            "Step: 1-->[60, 70, 80, 90, 100]\n",
            "Step: 2-->[60, 70, 80, 90, 100]\n",
            "Step: 3-->[60, 70, 80, 90, 100]\n",
            "---- Next Recursion Part ----\n",
            "Step: 0-->[70, 80, 90, 100]\n",
            "Step: 1-->[70, 80, 90, 100]\n",
            "Step: 2-->[70, 80, 90, 100]\n",
            "---- Next Recursion Part ----\n",
            "Step: 0-->[80, 90, 100]\n",
            "Step: 1-->[80, 90, 100]\n",
            "---- Next Recursion Part ----\n",
            "Step: 0-->[90, 100]\n",
            "---- Next Recursion Part ----\n",
            "[10, 20, 30, 40, 50, 60, 70, 80, 90, 100]\n"
          ]
        }
      ]
    }
  ]
}